{
 "cells": [
  {
   "cell_type": "code",
   "execution_count": null,
   "id": "e0e161a1-c220-4430-bb21-ddc44096453d",
   "metadata": {},
   "outputs": [],
   "source": []
  }
 ],
 "metadata": {
  "kernelspec": {
   "display_name": "",
   "name": ""
  },
  "language_info": {
   "name": ""
  }
 },
 "nbformat": 4,
 "nbformat_minor": 5
}
